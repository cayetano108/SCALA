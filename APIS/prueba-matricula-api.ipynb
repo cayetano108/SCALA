{
 "cells": [
  {
   "cell_type": "code",
   "execution_count": 1,
   "metadata": {},
   "outputs": [
    {
     "name": "stdout",
     "output_type": "stream",
     "text": [
      "/api/reg.asmx/CheckSpain?RegistrationNumber=7232MRG&username=cayetano108prueba\n"
     ]
    }
   ],
   "source": [
    "matricula = '7232MRG'\n",
    "userName = 'cayetano108prueba'\n",
    "\n",
    "host = 'www.matriculaapi.com'\n",
    "get = f'/api/reg.asmx/CheckSpain?RegistrationNumber={matricula}&username={userName}'\n"
   ]
  },
  {
   "cell_type": "code",
   "execution_count": 4,
   "metadata": {},
   "outputs": [
    {
     "name": "stdout",
     "output_type": "stream",
     "text": [
      "<?xml version=\"1.0\" encoding=\"utf-8\"?>\n",
      "<Vehicle xmlns:xsd=\"http://www.w3.org/2001/XMLSchema\" xmlns:xsi=\"http://www.w3.org/2001/XMLSchema-instance\" xmlns=\"http://regcheck.org.uk\">\n",
      "  <vehicleJson>{\n",
      "  \"Description\": \"KAWASAKI ELIMINATOR 500\",\n",
      "  \"CarMake\": {\n",
      "    \"CurrentTextValue\": \"KAWASAKI\"\n",
      "  },\n",
      "  \"CarModel\": {\n",
      "    \"CurrentTextValue\": \"ELIMINATOR 500\"\n",
      "  },\n",
      "  \"MakeDescription\": {\n",
      "    \"CurrentTextValue\": \"KAWASAKI\"\n",
      "  },\n",
      "  \"ModelDescription\": {\n",
      "    \"CurrentTextValue\": \"ELIMINATOR 500\"\n",
      "  },\n",
      "  \"EngineSize\": \"451\",\n",
      "  \"VehicleIdentificationNumber\": null,\n",
      "  \"RegistrationYear\": \"2024\",\n",
      "  \"RegistrationDate\": \"08/05/2024\",\n",
      "  \"Variation\": \"SE\",\n",
      "  \"Seats\": null,\n",
      "  \"VariantType\": null,\n",
      "  \"VehicleType\": \"Car\",\n",
      "  \"Fuel\": \"G\",\n",
      "  \"IndicativePrice\": null,\n",
      "  \"Doors\": \"0\",\n",
      "  \"AllTerain\": null,\n",
      "  \"KType\": null,\n",
      "  \"ImageUrl\": \"http://matriculaapi.com/image.aspx/@S0FXQVNBS0kgRUxJTUlOQVRPUiA1MDA=\",\n",
      "  \"DynamicPower\": \"45.0\",\n",
      "  \"Stolen\": null\n",
      "}</vehicleJson>\n",
      "  <vehicleData>\n",
      "    <Description>KAWASAKI ELIMINATOR 500</Description>\n",
      "    <RegistrationYear>2024</RegistrationYear>\n",
      "    <CarMake>\n",
      "      <CurrentTextValue>KAWASAKI</CurrentTextValue>\n",
      "    </CarMake>\n",
      "    <CarModel>ELIMINATOR 500</CarModel>\n",
      "    <EngineSize>\n",
      "      <CurrentTextValue>451</CurrentTextValue>\n",
      "    </EngineSize>\n",
      "  </vehicleData>\n",
      "</Vehicle>\n"
     ]
    }
   ],
   "source": [
    "import http.client\n",
    "import json\n",
    "\n",
    "conn = http.client.HTTPSConnection(host)\n",
    "conn.request(\"GET\", get)\n",
    "\n",
    "res = conn.getresponse()\n",
    "data = res.read()\n",
    "data = data.decode(\"utf-8\")\n",
    "print(data)"
   ]
  },
  {
   "cell_type": "code",
   "execution_count": 6,
   "metadata": {},
   "outputs": [
    {
     "data": {
      "text/plain": [
       "'<?xml version=\"1.0\" encoding=\"utf-8\"?>\\r\\n<Vehicle xmlns:xsd=\"http://www.w3.org/2001/XMLSchema\" xmlns:xsi=\"http://www.w3.org/2001/XMLSchema-instance\" xmlns=\"http://regcheck.org.uk\">\\r\\n  <vehicleJson>{\\n  \"Description\": \"KAWASAKI ELIMINATOR 500\",\\n  \"CarMake\": {\\n    \"CurrentTextValue\": \"KAWASAKI\"\\n  },\\n  \"CarModel\": {\\n    \"CurrentTextValue\": \"ELIMINATOR 500\"\\n  },\\n  \"MakeDescription\": {\\n    \"CurrentTextValue\": \"KAWASAKI\"\\n  },\\n  \"ModelDescription\": {\\n    \"CurrentTextValue\": \"ELIMINATOR 500\"\\n  },\\n  \"EngineSize\": \"451\",\\n  \"VehicleIdentificationNumber\": null,\\n  \"RegistrationYear\": \"2024\",\\n  \"RegistrationDate\": \"08/05/2024\",\\n  \"Variation\": \"SE\",\\n  \"Seats\": null,\\n  \"VariantType\": null,\\n  \"VehicleType\": \"Car\",\\n  \"Fuel\": \"G\",\\n  \"IndicativePrice\": null,\\n  \"Doors\": \"0\",\\n  \"AllTerain\": null,\\n  \"KType\": null,\\n  \"ImageUrl\": \"http://matriculaapi.com/image.aspx/@S0FXQVNBS0kgRUxJTUlOQVRPUiA1MDA=\",\\n  \"DynamicPower\": \"45.0\",\\n  \"Stolen\": null\\n}</vehicleJson>\\r\\n  <vehicleData>\\r\\n    <Description>KAWASAKI ELIMINATOR 500</Description>\\r\\n    <RegistrationYear>2024</RegistrationYear>\\r\\n    <CarMake>\\r\\n      <CurrentTextValue>KAWASAKI</CurrentTextValue>\\r\\n    </CarMake>\\r\\n    <CarModel>ELIMINATOR 500</CarModel>\\r\\n    <EngineSize>\\r\\n      <CurrentTextValue>451</CurrentTextValue>\\r\\n    </EngineSize>\\r\\n  </vehicleData>\\r\\n</Vehicle>'"
      ]
     },
     "execution_count": 6,
     "metadata": {},
     "output_type": "execute_result"
    }
   ],
   "source": [
    "data"
   ]
  },
  {
   "cell_type": "code",
   "execution_count": 7,
   "metadata": {},
   "outputs": [
    {
     "name": "stdout",
     "output_type": "stream",
     "text": [
      "{'Description': 'KAWASAKI ELIMINATOR 500', 'CarMake': {'CurrentTextValue': 'KAWASAKI'}, 'CarModel': {'CurrentTextValue': 'ELIMINATOR 500'}, 'MakeDescription': {'CurrentTextValue': 'KAWASAKI'}, 'ModelDescription': {'CurrentTextValue': 'ELIMINATOR 500'}, 'EngineSize': '451', 'VehicleIdentificationNumber': None, 'RegistrationYear': '2024', 'RegistrationDate': '08/05/2024', 'Variation': 'SE', 'Seats': None, 'VariantType': None, 'VehicleType': 'Car', 'Fuel': 'G', 'IndicativePrice': None, 'Doors': '0', 'AllTerain': None, 'KType': None, 'ImageUrl': 'http://matriculaapi.com/image.aspx/@S0FXQVNBS0kgRUxJTUlOQVRPUiA1MDA=', 'DynamicPower': '45.0', 'Stolen': None}\n"
     ]
    }
   ],
   "source": [
    "import xml.etree.ElementTree as ET\n",
    "\n",
    "# Parsear el XML\n",
    "root = ET.fromstring(data)\n",
    "\n",
    "# Definir el namespace (ya que el XML lo tiene)\n",
    "namespace = {'ns': 'http://regcheck.org.uk'}\n",
    "\n",
    "# Extraer el contenido de <vehicleJson>\n",
    "vehicle_json_text = root.find('ns:vehicleJson', namespace).text\n",
    "\n",
    "# Convertir el contenido JSON en un diccionario de Python\n",
    "vehicle_data_dict = json.loads(vehicle_json_text)\n",
    "\n",
    "# Imprimir el diccionario con los datos del vehículo\n",
    "print(vehicle_data_dict)"
   ]
  }
 ],
 "metadata": {
  "kernelspec": {
   "display_name": "SCALA",
   "language": "python",
   "name": "python3"
  },
  "language_info": {
   "codemirror_mode": {
    "name": "ipython",
    "version": 3
   },
   "file_extension": ".py",
   "mimetype": "text/x-python",
   "name": "python",
   "nbconvert_exporter": "python",
   "pygments_lexer": "ipython3",
   "version": "3.9.12"
  }
 },
 "nbformat": 4,
 "nbformat_minor": 2
}
